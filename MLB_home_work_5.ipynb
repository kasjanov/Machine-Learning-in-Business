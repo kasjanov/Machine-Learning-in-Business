{
 "cells": [
  {
   "cell_type": "markdown",
   "id": "8d7549c4",
   "metadata": {},
   "source": [
    "### Home work № 5:"
   ]
  },
  {
   "cell_type": "code",
   "execution_count": 1,
   "id": "70478c1b",
   "metadata": {},
   "outputs": [],
   "source": [
    "import itertools\n",
    "import matplotlib.pyplot as plt\n",
    "import numpy as np\n",
    "import pandas as pd\n",
    "import xgboost as xgb\n",
    "\n",
    "\n",
    "from sklearn.base import BaseEstimator, TransformerMixin\n",
    "from sklearn.ensemble import RandomForestClassifier\n",
    "from sklearn.linear_model import LogisticRegression\n",
    "from sklearn.metrics import f1_score, roc_auc_score, precision_score, classification_report, \\\n",
    "                            precision_recall_curve, confusion_matrix, ConfusionMatrixDisplay\n",
    "from sklearn.model_selection import train_test_split, GridSearchCV\n",
    "from sklearn.pipeline import Pipeline, make_pipeline, FeatureUnion\n",
    "from sklearn.preprocessing import StandardScaler\n",
    "\n",
    "\n",
    "%matplotlib inline"
   ]
  },
  {
   "cell_type": "code",
   "execution_count": 2,
   "id": "db502041",
   "metadata": {},
   "outputs": [
    {
     "data": {
      "text/html": [
       "<div>\n",
       "<style scoped>\n",
       "    .dataframe tbody tr th:only-of-type {\n",
       "        vertical-align: middle;\n",
       "    }\n",
       "\n",
       "    .dataframe tbody tr th {\n",
       "        vertical-align: top;\n",
       "    }\n",
       "\n",
       "    .dataframe thead th {\n",
       "        text-align: right;\n",
       "    }\n",
       "</style>\n",
       "<table border=\"1\" class=\"dataframe\">\n",
       "  <thead>\n",
       "    <tr style=\"text-align: right;\">\n",
       "      <th></th>\n",
       "      <th>RowNumber</th>\n",
       "      <th>CustomerId</th>\n",
       "      <th>Surname</th>\n",
       "      <th>CreditScore</th>\n",
       "      <th>Geography</th>\n",
       "      <th>Gender</th>\n",
       "      <th>Age</th>\n",
       "      <th>Tenure</th>\n",
       "      <th>Balance</th>\n",
       "      <th>NumOfProducts</th>\n",
       "      <th>HasCrCard</th>\n",
       "      <th>IsActiveMember</th>\n",
       "      <th>EstimatedSalary</th>\n",
       "      <th>Exited</th>\n",
       "    </tr>\n",
       "  </thead>\n",
       "  <tbody>\n",
       "    <tr>\n",
       "      <th>0</th>\n",
       "      <td>1</td>\n",
       "      <td>15634602</td>\n",
       "      <td>Hargrave</td>\n",
       "      <td>619</td>\n",
       "      <td>France</td>\n",
       "      <td>Female</td>\n",
       "      <td>42</td>\n",
       "      <td>2</td>\n",
       "      <td>0.00</td>\n",
       "      <td>1</td>\n",
       "      <td>1</td>\n",
       "      <td>1</td>\n",
       "      <td>101348.88</td>\n",
       "      <td>1</td>\n",
       "    </tr>\n",
       "    <tr>\n",
       "      <th>1</th>\n",
       "      <td>2</td>\n",
       "      <td>15647311</td>\n",
       "      <td>Hill</td>\n",
       "      <td>608</td>\n",
       "      <td>Spain</td>\n",
       "      <td>Female</td>\n",
       "      <td>41</td>\n",
       "      <td>1</td>\n",
       "      <td>83807.86</td>\n",
       "      <td>1</td>\n",
       "      <td>0</td>\n",
       "      <td>1</td>\n",
       "      <td>112542.58</td>\n",
       "      <td>0</td>\n",
       "    </tr>\n",
       "    <tr>\n",
       "      <th>2</th>\n",
       "      <td>3</td>\n",
       "      <td>15619304</td>\n",
       "      <td>Onio</td>\n",
       "      <td>502</td>\n",
       "      <td>France</td>\n",
       "      <td>Female</td>\n",
       "      <td>42</td>\n",
       "      <td>8</td>\n",
       "      <td>159660.80</td>\n",
       "      <td>3</td>\n",
       "      <td>1</td>\n",
       "      <td>0</td>\n",
       "      <td>113931.57</td>\n",
       "      <td>1</td>\n",
       "    </tr>\n",
       "  </tbody>\n",
       "</table>\n",
       "</div>"
      ],
      "text/plain": [
       "   RowNumber  CustomerId   Surname  CreditScore Geography  Gender  Age  \\\n",
       "0          1    15634602  Hargrave          619    France  Female   42   \n",
       "1          2    15647311      Hill          608     Spain  Female   41   \n",
       "2          3    15619304      Onio          502    France  Female   42   \n",
       "\n",
       "   Tenure    Balance  NumOfProducts  HasCrCard  IsActiveMember  \\\n",
       "0       2       0.00              1          1               1   \n",
       "1       1   83807.86              1          0               1   \n",
       "2       8  159660.80              3          1               0   \n",
       "\n",
       "   EstimatedSalary  Exited  \n",
       "0        101348.88       1  \n",
       "1        112542.58       0  \n",
       "2        113931.57       1  "
      ]
     },
     "execution_count": 2,
     "metadata": {},
     "output_type": "execute_result"
    }
   ],
   "source": [
    "df = pd.read_csv(\"churn_data.csv\")\n",
    "df.head(3)"
   ]
  },
  {
   "cell_type": "markdown",
   "id": "7fb71e10",
   "metadata": {},
   "source": [
    "Есть категориальные и вещественные признаки. Поле CustomerId нужно будет удалить.\n",
    "Посмотрим на распределение классов:"
   ]
  },
  {
   "cell_type": "code",
   "execution_count": 3,
   "id": "c67e257c",
   "metadata": {},
   "outputs": [
    {
     "data": {
      "text/plain": [
       "0    0.7963\n",
       "1    0.2037\n",
       "Name: Exited, dtype: float64"
      ]
     },
     "execution_count": 3,
     "metadata": {},
     "output_type": "execute_result"
    }
   ],
   "source": [
    "df['Exited'].value_counts(normalize=True)"
   ]
  },
  {
   "cell_type": "markdown",
   "id": "b775dd44",
   "metadata": {},
   "source": [
    "распределение 1 к 4"
   ]
  },
  {
   "cell_type": "code",
   "execution_count": 4,
   "id": "1380c37b",
   "metadata": {},
   "outputs": [],
   "source": [
    "#разделим данные на train/test\n",
    "X_train, X_test, y_train, y_test = train_test_split(df, df['Exited'], random_state=42)"
   ]
  },
  {
   "cell_type": "code",
   "execution_count": 5,
   "id": "7957c57d",
   "metadata": {},
   "outputs": [],
   "source": [
    "#соберем Pipeline\n",
    "class FeatureSelector(BaseEstimator, TransformerMixin):\n",
    "    def __init__(self, column):\n",
    "        self.column = column\n",
    "\n",
    "    def fit(self, X, y=None):\n",
    "        return self\n",
    "\n",
    "    def transform(self, X, y=None):\n",
    "        return X[self.column]\n",
    "    \n",
    "class NumberSelector(BaseEstimator, TransformerMixin):\n",
    "    def __init__(self, key):\n",
    "        self.key = key\n",
    "\n",
    "    def fit(self, X, y=None):\n",
    "        return self\n",
    "\n",
    "    def transform(self, X):\n",
    "        return X[[self.key]]\n",
    "    \n",
    "class OHEEncoder(BaseEstimator, TransformerMixin):\n",
    "    def __init__(self, key):\n",
    "        self.key = key\n",
    "        self.columns = []\n",
    "\n",
    "    def fit(self, X, y=None):\n",
    "        self.columns = [col for col in pd.get_dummies(X, prefix=self.key).columns]\n",
    "        return self\n",
    "\n",
    "    def transform(self, X):\n",
    "        X = pd.get_dummies(X, prefix=self.key)\n",
    "        test_columns = [col for col in X.columns]\n",
    "        for col_ in self.columns:\n",
    "            if col_ not in test_columns:\n",
    "                X[col_] = 0\n",
    "        return X[self.columns]"
   ]
  },
  {
   "cell_type": "code",
   "execution_count": 6,
   "id": "56558c1c",
   "metadata": {},
   "outputs": [
    {
     "data": {
      "text/html": [
       "<div>\n",
       "<style scoped>\n",
       "    .dataframe tbody tr th:only-of-type {\n",
       "        vertical-align: middle;\n",
       "    }\n",
       "\n",
       "    .dataframe tbody tr th {\n",
       "        vertical-align: top;\n",
       "    }\n",
       "\n",
       "    .dataframe thead th {\n",
       "        text-align: right;\n",
       "    }\n",
       "</style>\n",
       "<table border=\"1\" class=\"dataframe\">\n",
       "  <thead>\n",
       "    <tr style=\"text-align: right;\">\n",
       "      <th></th>\n",
       "      <th>RowNumber</th>\n",
       "      <th>CustomerId</th>\n",
       "      <th>Surname</th>\n",
       "      <th>CreditScore</th>\n",
       "      <th>Geography</th>\n",
       "      <th>Gender</th>\n",
       "      <th>Age</th>\n",
       "      <th>Tenure</th>\n",
       "      <th>Balance</th>\n",
       "      <th>NumOfProducts</th>\n",
       "      <th>HasCrCard</th>\n",
       "      <th>IsActiveMember</th>\n",
       "      <th>EstimatedSalary</th>\n",
       "      <th>Exited</th>\n",
       "    </tr>\n",
       "  </thead>\n",
       "  <tbody>\n",
       "    <tr>\n",
       "      <th>0</th>\n",
       "      <td>1</td>\n",
       "      <td>15634602</td>\n",
       "      <td>Hargrave</td>\n",
       "      <td>619</td>\n",
       "      <td>France</td>\n",
       "      <td>Female</td>\n",
       "      <td>42</td>\n",
       "      <td>2</td>\n",
       "      <td>0.00</td>\n",
       "      <td>1</td>\n",
       "      <td>1</td>\n",
       "      <td>1</td>\n",
       "      <td>101348.88</td>\n",
       "      <td>1</td>\n",
       "    </tr>\n",
       "    <tr>\n",
       "      <th>1</th>\n",
       "      <td>2</td>\n",
       "      <td>15647311</td>\n",
       "      <td>Hill</td>\n",
       "      <td>608</td>\n",
       "      <td>Spain</td>\n",
       "      <td>Female</td>\n",
       "      <td>41</td>\n",
       "      <td>1</td>\n",
       "      <td>83807.86</td>\n",
       "      <td>1</td>\n",
       "      <td>0</td>\n",
       "      <td>1</td>\n",
       "      <td>112542.58</td>\n",
       "      <td>0</td>\n",
       "    </tr>\n",
       "    <tr>\n",
       "      <th>2</th>\n",
       "      <td>3</td>\n",
       "      <td>15619304</td>\n",
       "      <td>Onio</td>\n",
       "      <td>502</td>\n",
       "      <td>France</td>\n",
       "      <td>Female</td>\n",
       "      <td>42</td>\n",
       "      <td>8</td>\n",
       "      <td>159660.80</td>\n",
       "      <td>3</td>\n",
       "      <td>1</td>\n",
       "      <td>0</td>\n",
       "      <td>113931.57</td>\n",
       "      <td>1</td>\n",
       "    </tr>\n",
       "  </tbody>\n",
       "</table>\n",
       "</div>"
      ],
      "text/plain": [
       "   RowNumber  CustomerId   Surname  CreditScore Geography  Gender  Age  \\\n",
       "0          1    15634602  Hargrave          619    France  Female   42   \n",
       "1          2    15647311      Hill          608     Spain  Female   41   \n",
       "2          3    15619304      Onio          502    France  Female   42   \n",
       "\n",
       "   Tenure    Balance  NumOfProducts  HasCrCard  IsActiveMember  \\\n",
       "0       2       0.00              1          1               1   \n",
       "1       1   83807.86              1          0               1   \n",
       "2       8  159660.80              3          1               0   \n",
       "\n",
       "   EstimatedSalary  Exited  \n",
       "0        101348.88       1  \n",
       "1        112542.58       0  \n",
       "2        113931.57       1  "
      ]
     },
     "execution_count": 6,
     "metadata": {},
     "output_type": "execute_result"
    }
   ],
   "source": [
    "df.head(3)"
   ]
  },
  {
   "cell_type": "code",
   "execution_count": 7,
   "id": "a013ff52",
   "metadata": {},
   "outputs": [],
   "source": [
    "categorical_columns = ['Geography', 'Gender', 'Tenure', 'HasCrCard', 'IsActiveMember']\n",
    "continuous_columns = ['CreditScore', 'Age', 'Balance', 'NumOfProducts', 'EstimatedSalary']"
   ]
  },
  {
   "cell_type": "code",
   "execution_count": 8,
   "id": "3a01e003",
   "metadata": {},
   "outputs": [],
   "source": [
    "final_transformers = list()\n",
    "\n",
    "for cat_col in categorical_columns:\n",
    "    cat_transformer = Pipeline([('selector', FeatureSelector(column=cat_col)),\n",
    "                                ('ohe', OHEEncoder(key=cat_col))])\n",
    "    final_transformers.append((cat_col, cat_transformer))\n",
    "\n",
    "for cont_col in continuous_columns:\n",
    "    cont_transformer = Pipeline([('selector', NumberSelector(key=cont_col))])\n",
    "    final_transformers.append((cont_col, cont_transformer))"
   ]
  },
  {
   "cell_type": "markdown",
   "id": "d03c24ef",
   "metadata": {},
   "source": [
    "Объединим все это в единый пайплайн"
   ]
  },
  {
   "cell_type": "code",
   "execution_count": 9,
   "id": "d2d3b64d",
   "metadata": {},
   "outputs": [],
   "source": [
    "feats = FeatureUnion(final_transformers)\n",
    "\n",
    "feature_processing = Pipeline([('feats', feats)])"
   ]
  },
  {
   "cell_type": "markdown",
   "id": "9ee8329f",
   "metadata": {},
   "source": [
    "Построим модели"
   ]
  },
  {
   "cell_type": "code",
   "execution_count": 10,
   "id": "a187805c",
   "metadata": {},
   "outputs": [],
   "source": [
    "pipeline_rf = Pipeline([('features',feats),\n",
    "                        ('classifier', RandomForestClassifier(random_state = 42))])\n",
    "\n",
    "pipeline_xgb = Pipeline([('features',feats), \n",
    "                         ('classifier', xgb.XGBClassifier(random_state = 42))])\n",
    "\n",
    "pipeline_logreg = Pipeline([('features',feats), \n",
    "                            ('classifier', LogisticRegression(random_state = 42))])"
   ]
  },
  {
   "cell_type": "code",
   "execution_count": 11,
   "id": "704ba9cf",
   "metadata": {},
   "outputs": [],
   "source": [
    "params_rf = dict(classifier__n_estimators=[200, 500, 800],\n",
    "                 classifier__max_depth=[6, 8, 12])\n",
    "params_logreg = dict(classifier__C=[0.5, 1, 10, 100])\n",
    "params_xgb = dict(classifier__n_estimators=[100, 200, 300],\n",
    "                 classifier__max_depth=[2, 3, 4, 6])"
   ]
  },
  {
   "cell_type": "markdown",
   "id": "6bf24d43",
   "metadata": {},
   "source": [
    "Масштабируем данные для логистической регрессии"
   ]
  },
  {
   "cell_type": "code",
   "execution_count": 12,
   "id": "cccd61e0",
   "metadata": {},
   "outputs": [],
   "source": [
    "scaler_std = StandardScaler()\n",
    "\n",
    "X_train_norm = X_train.copy()\n",
    "X_test_norm = X_test.copy()\n",
    "\n",
    "X_train_norm[continuous_columns] = scaler_std.fit_transform(X_train_norm[continuous_columns])\n",
    "X_test_norm[continuous_columns] = scaler_std.transform(X_test_norm[continuous_columns])"
   ]
  },
  {
   "cell_type": "markdown",
   "id": "08cb9642",
   "metadata": {},
   "source": [
    "Объединим поиск параметров и кросс-валидацию"
   ]
  },
  {
   "cell_type": "code",
   "execution_count": 13,
   "id": "20ad3e82",
   "metadata": {},
   "outputs": [],
   "source": [
    "def find_parameters(pipe, params, X_train, y_train):\n",
    "    \n",
    "    rs = GridSearchCV(pipe, param_grid=params, scoring='roc_auc', cv=5)  # Тут же делаем кросс-валидацию\n",
    "    rs.fit(X_train, y_train.values.ravel())\n",
    "    \n",
    "    print(f\"Model: {pipe['classifier']},\\n params: {rs.best_params_},\\n best_score: {rs.best_score_}\\n\\n\")"
   ]
  },
  {
   "cell_type": "code",
   "execution_count": 14,
   "id": "9ca79355",
   "metadata": {},
   "outputs": [
    {
     "name": "stdout",
     "output_type": "stream",
     "text": [
      "Model: RandomForestClassifier(random_state=42),\n",
      " params: {'classifier__max_depth': 12, 'classifier__n_estimators': 500},\n",
      " best_score: 0.8556638411923645\n",
      "\n",
      "\n",
      "Wall time: 1min 22s\n"
     ]
    }
   ],
   "source": [
    "%%time\n",
    "find_parameters(pipeline_rf, params_rf, X_train, y_train)"
   ]
  },
  {
   "cell_type": "code",
   "execution_count": 15,
   "id": "926e1efa",
   "metadata": {},
   "outputs": [
    {
     "name": "stdout",
     "output_type": "stream",
     "text": [
      "Model: LogisticRegression(random_state=42),\n",
      " params: {'classifier__C': 0.5},\n",
      " best_score: 0.7609850300706006\n",
      "\n",
      "\n",
      "Wall time: 888 ms\n"
     ]
    }
   ],
   "source": [
    "%%time\n",
    "find_parameters(pipeline_logreg, params_logreg, X_train_norm, y_train)"
   ]
  },
  {
   "cell_type": "code",
   "execution_count": 16,
   "id": "01c2571a",
   "metadata": {},
   "outputs": [
    {
     "name": "stdout",
     "output_type": "stream",
     "text": [
      "Model: XGBClassifier(base_score=None, booster=None, callbacks=None,\n",
      "              colsample_bylevel=None, colsample_bynode=None,\n",
      "              colsample_bytree=None, early_stopping_rounds=None,\n",
      "              enable_categorical=False, eval_metric=None, gamma=None,\n",
      "              gpu_id=None, grow_policy=None, importance_type=None,\n",
      "              interaction_constraints=None, learning_rate=None, max_bin=None,\n",
      "              max_cat_to_onehot=None, max_delta_step=None, max_depth=None,\n",
      "              max_leaves=None, min_child_weight=None, missing=nan,\n",
      "              monotone_constraints=None, n_estimators=100, n_jobs=None,\n",
      "              num_parallel_tree=None, predictor=None, random_state=42,\n",
      "              reg_alpha=None, reg_lambda=None, ...),\n",
      " params: {'classifier__max_depth': 2, 'classifier__n_estimators': 100},\n",
      " best_score: 0.85939488363985\n",
      "\n",
      "\n",
      "Wall time: 33.4 s\n"
     ]
    }
   ],
   "source": [
    "%%time\n",
    "find_parameters(pipeline_xgb, params_xgb, X_train, y_train)"
   ]
  },
  {
   "cell_type": "code",
   "execution_count": 17,
   "id": "a8526028",
   "metadata": {},
   "outputs": [],
   "source": [
    "pipeline_rf = Pipeline([('features',feats),\n",
    "                        ('classifier', RandomForestClassifier(max_depth=12, n_estimators=500, random_state=42))])\n",
    "\n",
    "pipeline_logreg = Pipeline([('features',feats),\n",
    "                            ('classifier', LogisticRegression(C=0.5, random_state=42))])\n",
    "\n",
    "pipeline_xgb = Pipeline([('features',feats),\n",
    "                         ('classifier', xgb.XGBClassifier(max_depth=2, n_estimators=100, random_state=42))])"
   ]
  },
  {
   "cell_type": "code",
   "execution_count": 18,
   "id": "3010e338",
   "metadata": {},
   "outputs": [
    {
     "name": "stdout",
     "output_type": "stream",
     "text": [
      "Wall time: 3.11 s\n"
     ]
    }
   ],
   "source": [
    "%%time\n",
    "\n",
    "#обучим пайплайн на всем тренировочном датасете\n",
    "def fit_predict_models(pipe, X_train, y_train, X_test):\n",
    "    pipe.fit(X_train, y_train)\n",
    "    y_score = pipe.predict_proba(X_test)[:, 1]\n",
    "    return y_score\n",
    "\n",
    "y_score_logreg = fit_predict_models(pipeline_logreg, X_train_norm, y_train, X_test_norm)\n",
    "y_score_xgb = fit_predict_models(pipeline_xgb, X_train, y_train, X_test)\n",
    "y_score_rf = fit_predict_models(pipeline_rf, X_train, y_train, X_test)"
   ]
  },
  {
   "cell_type": "code",
   "execution_count": 19,
   "id": "77807a27",
   "metadata": {},
   "outputs": [],
   "source": [
    "def metrics_calculation(y_test, preds, b=1):\n",
    "    roc_auc = roc_auc_score(y_test, preds)\n",
    "    precision, recall, thresholds = precision_recall_curve(y_test, preds)\n",
    "    fscore = (1 + b**2) * (precision * recall) / (b**2 * precision + recall)\n",
    "    ix = np.nanargmax(fscore)\n",
    "    return thresholds[ix], fscore[ix], precision[ix], recall[ix], roc_auc"
   ]
  },
  {
   "cell_type": "code",
   "execution_count": 20,
   "id": "294c2c65",
   "metadata": {},
   "outputs": [
    {
     "name": "stderr",
     "output_type": "stream",
     "text": [
      "<ipython-input-19-339a8e1e6516>:4: RuntimeWarning: invalid value encountered in true_divide\n",
      "  fscore = (1 + b**2) * (precision * recall) / (b**2 * precision + recall)\n"
     ]
    }
   ],
   "source": [
    "all_preds = [y_score_logreg, y_score_xgb, y_score_rf]\n",
    "metrics = []\n",
    "for preds in all_preds:\n",
    "    best_threshold, fscore, precision, recall, roc_auc = metrics_calculation(y_test, preds, b=0.7)  \n",
    "    # приоретизируем precision - обеспечим максимальное содержание TP в предсказаниях модели,\n",
    "    # а следовательно не будем тратить неэффективно бюджет на FP\n",
    "    metrics.append([best_threshold, fscore, precision, recall, roc_auc])\n",
    "metrics = np.array(metrics)"
   ]
  },
  {
   "cell_type": "code",
   "execution_count": 21,
   "id": "671e288a",
   "metadata": {},
   "outputs": [
    {
     "data": {
      "text/html": [
       "<div>\n",
       "<style scoped>\n",
       "    .dataframe tbody tr th:only-of-type {\n",
       "        vertical-align: middle;\n",
       "    }\n",
       "\n",
       "    .dataframe tbody tr th {\n",
       "        vertical-align: top;\n",
       "    }\n",
       "\n",
       "    .dataframe thead th {\n",
       "        text-align: right;\n",
       "    }\n",
       "</style>\n",
       "<table border=\"1\" class=\"dataframe\">\n",
       "  <thead>\n",
       "    <tr style=\"text-align: right;\">\n",
       "      <th></th>\n",
       "      <th>fscore</th>\n",
       "      <th>precision</th>\n",
       "      <th>recall</th>\n",
       "      <th>roc_auc</th>\n",
       "    </tr>\n",
       "  </thead>\n",
       "  <tbody>\n",
       "    <tr>\n",
       "      <th>y_score_logreg</th>\n",
       "      <td>0.499123</td>\n",
       "      <td>0.513100</td>\n",
       "      <td>0.472837</td>\n",
       "      <td>0.773439</td>\n",
       "    </tr>\n",
       "    <tr>\n",
       "      <th>y_score_xgb</th>\n",
       "      <td>0.654418</td>\n",
       "      <td>0.742210</td>\n",
       "      <td>0.527163</td>\n",
       "      <td>0.866775</td>\n",
       "    </tr>\n",
       "    <tr>\n",
       "      <th>y_score_rf</th>\n",
       "      <td>0.659808</td>\n",
       "      <td>0.725131</td>\n",
       "      <td>0.557344</td>\n",
       "      <td>0.865946</td>\n",
       "    </tr>\n",
       "  </tbody>\n",
       "</table>\n",
       "</div>"
      ],
      "text/plain": [
       "                  fscore  precision    recall   roc_auc\n",
       "y_score_logreg  0.499123   0.513100  0.472837  0.773439\n",
       "y_score_xgb     0.654418   0.742210  0.527163  0.866775\n",
       "y_score_rf      0.659808   0.725131  0.557344  0.865946"
      ]
     },
     "execution_count": 21,
     "metadata": {},
     "output_type": "execute_result"
    }
   ],
   "source": [
    "metrics_comparison_df = pd.DataFrame(np.array(metrics[:, 1:]),\n",
    "                   columns=['fscore', 'precision', 'recall', 'roc_auc'],\n",
    "                   index=['y_score_logreg', 'y_score_xgb', 'y_score_rf'])\n",
    "metrics_comparison_df"
   ]
  },
  {
   "cell_type": "code",
   "execution_count": 22,
   "id": "be6cf028",
   "metadata": {},
   "outputs": [],
   "source": [
    "xhb_threshold = metrics[1, 0]  # запишем оптимальный порог для построения confusion_matrix"
   ]
  },
  {
   "cell_type": "markdown",
   "id": "634e6e75",
   "metadata": {},
   "source": [
    "Отрисуем матрицу ошибок"
   ]
  },
  {
   "cell_type": "code",
   "execution_count": 23,
   "id": "7987a9c5",
   "metadata": {},
   "outputs": [
    {
     "data": {
      "image/png": "[encoded data removed]",
      "text/plain": [
       "<Figure size 720x720 with 2 Axes>"
      ]
     },
     "metadata": {
      "needs_background": "light"
     },
     "output_type": "display_data"
    }
   ],
   "source": [
    "fig, axes = plt.subplots(nrows=1, ncols=1, figsize=(10, 10))\n",
    "font = {'size' : 15}\n",
    "plt.rc('font', **font)\n",
    "disp = ConfusionMatrixDisplay(confusion_matrix(y_test, y_score_xgb>xhb_threshold))\n",
    "disp.plot(ax=axes)\n",
    "disp.ax_.set_title('XGBClassifier')\n",
    "plt.subplots_adjust(wspace=1, hspace=0.1)\n",
    "plt.savefig(\"confusion_matrix.jpg\")\n",
    "plt.show()"
   ]
  },
  {
   "cell_type": "code",
   "execution_count": 24,
   "id": "988468d8",
   "metadata": {},
   "outputs": [
    {
     "name": "stdout",
     "output_type": "stream",
     "text": [
      "Экономическая эффективность модели 170$\n"
     ]
    }
   ],
   "source": [
    "economic_profit=261*2-(261+91)*1\n",
    "print(f'Экономическая эффективность модели {economic_profit}$')"
   ]
  }
 ],
 "metadata": {
  "kernelspec": {
   "display_name": "Python 3",
   "language": "python",
   "name": "python3"
  },
  "language_info": {
   "codemirror_mode": {
    "name": "ipython",
    "version": 3
   },
   "file_extension": ".py",
   "mimetype": "text/x-python",
   "name": "python",
   "nbconvert_exporter": "python",
   "pygments_lexer": "ipython3",
   "version": "3.8.8"
  }
 },
 "nbformat": 4,
 "nbformat_minor": 5
}
