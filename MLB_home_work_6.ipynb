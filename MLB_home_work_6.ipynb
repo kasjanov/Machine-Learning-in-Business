{
 "cells": [
  {
   "cell_type": "markdown",
   "id": "9f9f3e41",
   "metadata": {},
   "source": [
    "### Home work № 6:"
   ]
  },
  {
   "cell_type": "code",
   "execution_count": 1,
   "id": "50ec3cf3",
   "metadata": {},
   "outputs": [],
   "source": [
    "import pandas as pd\n",
    "import numpy as np\n",
    "\n",
    "from sklearn.pipeline import Pipeline, make_pipeline, FeatureUnion\n",
    "from sklearn.base import BaseEstimator, TransformerMixin\n",
    "\n",
    "from sklearn.linear_model import LogisticRegression\n",
    "from sklearn.ensemble import RandomForestClassifier\n",
    "import xgboost as xgb\n",
    "import catboost as catb\n",
    "\n",
    "from sklearn.preprocessing import StandardScaler\n",
    "\n",
    "from sklearn.model_selection import train_test_split, GridSearchCV\n",
    "from sklearn.metrics import recall_score, precision_score, roc_auc_score, accuracy_score, f1_score"
   ]
  },
  {
   "cell_type": "code",
   "execution_count": 2,
   "id": "ea3ddc88",
   "metadata": {},
   "outputs": [
    {
     "data": {
      "text/html": [
       "<div>\n",
       "<style scoped>\n",
       "    .dataframe tbody tr th:only-of-type {\n",
       "        vertical-align: middle;\n",
       "    }\n",
       "\n",
       "    .dataframe tbody tr th {\n",
       "        vertical-align: top;\n",
       "    }\n",
       "\n",
       "    .dataframe thead th {\n",
       "        text-align: right;\n",
       "    }\n",
       "</style>\n",
       "<table border=\"1\" class=\"dataframe\">\n",
       "  <thead>\n",
       "    <tr style=\"text-align: right;\">\n",
       "      <th></th>\n",
       "      <th>age</th>\n",
       "      <th>job</th>\n",
       "      <th>marital</th>\n",
       "      <th>education</th>\n",
       "      <th>default</th>\n",
       "      <th>balance</th>\n",
       "      <th>housing</th>\n",
       "      <th>loan</th>\n",
       "      <th>contact</th>\n",
       "      <th>day</th>\n",
       "      <th>month</th>\n",
       "      <th>duration</th>\n",
       "      <th>campaign</th>\n",
       "      <th>pdays</th>\n",
       "      <th>previous</th>\n",
       "      <th>poutcome</th>\n",
       "      <th>y</th>\n",
       "    </tr>\n",
       "  </thead>\n",
       "  <tbody>\n",
       "    <tr>\n",
       "      <th>0</th>\n",
       "      <td>58</td>\n",
       "      <td>management</td>\n",
       "      <td>married</td>\n",
       "      <td>tertiary</td>\n",
       "      <td>no</td>\n",
       "      <td>2143</td>\n",
       "      <td>yes</td>\n",
       "      <td>no</td>\n",
       "      <td>unknown</td>\n",
       "      <td>5</td>\n",
       "      <td>may</td>\n",
       "      <td>261</td>\n",
       "      <td>1</td>\n",
       "      <td>-1</td>\n",
       "      <td>0</td>\n",
       "      <td>unknown</td>\n",
       "      <td>no</td>\n",
       "    </tr>\n",
       "    <tr>\n",
       "      <th>1</th>\n",
       "      <td>44</td>\n",
       "      <td>technician</td>\n",
       "      <td>single</td>\n",
       "      <td>secondary</td>\n",
       "      <td>no</td>\n",
       "      <td>29</td>\n",
       "      <td>yes</td>\n",
       "      <td>no</td>\n",
       "      <td>unknown</td>\n",
       "      <td>5</td>\n",
       "      <td>may</td>\n",
       "      <td>151</td>\n",
       "      <td>1</td>\n",
       "      <td>-1</td>\n",
       "      <td>0</td>\n",
       "      <td>unknown</td>\n",
       "      <td>no</td>\n",
       "    </tr>\n",
       "    <tr>\n",
       "      <th>2</th>\n",
       "      <td>33</td>\n",
       "      <td>entrepreneur</td>\n",
       "      <td>married</td>\n",
       "      <td>secondary</td>\n",
       "      <td>no</td>\n",
       "      <td>2</td>\n",
       "      <td>yes</td>\n",
       "      <td>yes</td>\n",
       "      <td>unknown</td>\n",
       "      <td>5</td>\n",
       "      <td>may</td>\n",
       "      <td>76</td>\n",
       "      <td>1</td>\n",
       "      <td>-1</td>\n",
       "      <td>0</td>\n",
       "      <td>unknown</td>\n",
       "      <td>no</td>\n",
       "    </tr>\n",
       "  </tbody>\n",
       "</table>\n",
       "</div>"
      ],
      "text/plain": [
       "   age           job  marital  education default  balance housing loan  \\\n",
       "0   58    management  married   tertiary      no     2143     yes   no   \n",
       "1   44    technician   single  secondary      no       29     yes   no   \n",
       "2   33  entrepreneur  married  secondary      no        2     yes  yes   \n",
       "\n",
       "   contact  day month  duration  campaign  pdays  previous poutcome   y  \n",
       "0  unknown    5   may       261         1     -1         0  unknown  no  \n",
       "1  unknown    5   may       151         1     -1         0  unknown  no  \n",
       "2  unknown    5   may        76         1     -1         0  unknown  no  "
      ]
     },
     "execution_count": 2,
     "metadata": {},
     "output_type": "execute_result"
    }
   ],
   "source": [
    "data = pd.read_csv(\"bank-full.csv\", sep=\";\")\n",
    "data.head(3)"
   ]
  },
  {
   "cell_type": "code",
   "execution_count": 3,
   "id": "bc3d7bee",
   "metadata": {},
   "outputs": [
    {
     "data": {
      "text/plain": [
       "no     0.883015\n",
       "yes    0.116985\n",
       "Name: y, dtype: float64"
      ]
     },
     "execution_count": 3,
     "metadata": {},
     "output_type": "execute_result"
    }
   ],
   "source": [
    "data.iloc[:, -1].value_counts(normalize=True)"
   ]
  },
  {
   "cell_type": "code",
   "execution_count": 4,
   "id": "8a2f80cb",
   "metadata": {},
   "outputs": [],
   "source": [
    "data.loc[data['y'] == 'no', 'y'] = 0\n",
    "data.loc[data['y'] == 'yes', 'y'] = 1"
   ]
  },
  {
   "cell_type": "markdown",
   "id": "698d94dd",
   "metadata": {},
   "source": [
    "#### Feature engineering"
   ]
  },
  {
   "cell_type": "code",
   "execution_count": 6,
   "id": "32f2e689",
   "metadata": {},
   "outputs": [],
   "source": [
    "data['balance_to_age'] = data['balance'] / data['age']"
   ]
  },
  {
   "cell_type": "code",
   "execution_count": 7,
   "id": "90059709",
   "metadata": {},
   "outputs": [],
   "source": [
    "data['balance_to_duration'] = data['balance'] / data['duration']"
   ]
  },
  {
   "cell_type": "code",
   "execution_count": 8,
   "id": "5afa41e9",
   "metadata": {},
   "outputs": [
    {
     "data": {
      "text/html": [
       "<div>\n",
       "<style scoped>\n",
       "    .dataframe tbody tr th:only-of-type {\n",
       "        vertical-align: middle;\n",
       "    }\n",
       "\n",
       "    .dataframe tbody tr th {\n",
       "        vertical-align: top;\n",
       "    }\n",
       "\n",
       "    .dataframe thead th {\n",
       "        text-align: right;\n",
       "    }\n",
       "</style>\n",
       "<table border=\"1\" class=\"dataframe\">\n",
       "  <thead>\n",
       "    <tr style=\"text-align: right;\">\n",
       "      <th></th>\n",
       "      <th>education</th>\n",
       "      <th>mean_balance_at_education_level</th>\n",
       "    </tr>\n",
       "  </thead>\n",
       "  <tbody>\n",
       "    <tr>\n",
       "      <th>0</th>\n",
       "      <td>primary</td>\n",
       "      <td>1250.949934</td>\n",
       "    </tr>\n",
       "    <tr>\n",
       "      <th>1</th>\n",
       "      <td>secondary</td>\n",
       "      <td>1154.880786</td>\n",
       "    </tr>\n",
       "    <tr>\n",
       "      <th>2</th>\n",
       "      <td>tertiary</td>\n",
       "      <td>1758.416435</td>\n",
       "    </tr>\n",
       "    <tr>\n",
       "      <th>3</th>\n",
       "      <td>unknown</td>\n",
       "      <td>1526.754443</td>\n",
       "    </tr>\n",
       "  </tbody>\n",
       "</table>\n",
       "</div>"
      ],
      "text/plain": [
       "   education  mean_balance_at_education_level\n",
       "0    primary                      1250.949934\n",
       "1  secondary                      1154.880786\n",
       "2   tertiary                      1758.416435\n",
       "3    unknown                      1526.754443"
      ]
     },
     "execution_count": 8,
     "metadata": {},
     "output_type": "execute_result"
    }
   ],
   "source": [
    "mean_balance_at_education_level = data.groupby(['education'], as_index=False).agg({'balance':'mean'})\\\n",
    "                       .rename(columns={'balance':'mean_balance_at_education_level'})\n",
    "data = data.merge(mean_balance_at_education_level, on='education', how='left')\n",
    "\n",
    "mean_balance_at_education_level"
   ]
  },
  {
   "cell_type": "code",
   "execution_count": 9,
   "id": "52d44a9b",
   "metadata": {},
   "outputs": [
    {
     "data": {
      "text/html": [
       "<div>\n",
       "<style scoped>\n",
       "    .dataframe tbody tr th:only-of-type {\n",
       "        vertical-align: middle;\n",
       "    }\n",
       "\n",
       "    .dataframe tbody tr th {\n",
       "        vertical-align: top;\n",
       "    }\n",
       "\n",
       "    .dataframe thead th {\n",
       "        text-align: right;\n",
       "    }\n",
       "</style>\n",
       "<table border=\"1\" class=\"dataframe\">\n",
       "  <thead>\n",
       "    <tr style=\"text-align: right;\">\n",
       "      <th></th>\n",
       "      <th>age</th>\n",
       "      <th>job</th>\n",
       "      <th>marital</th>\n",
       "      <th>education</th>\n",
       "      <th>default</th>\n",
       "      <th>balance</th>\n",
       "      <th>housing</th>\n",
       "      <th>loan</th>\n",
       "      <th>contact</th>\n",
       "      <th>day</th>\n",
       "      <th>month</th>\n",
       "      <th>duration</th>\n",
       "      <th>campaign</th>\n",
       "      <th>pdays</th>\n",
       "      <th>previous</th>\n",
       "      <th>poutcome</th>\n",
       "      <th>balance_to_age</th>\n",
       "      <th>balance_to_duration</th>\n",
       "      <th>mean_balance_at_education_level</th>\n",
       "      <th>y</th>\n",
       "    </tr>\n",
       "  </thead>\n",
       "  <tbody>\n",
       "    <tr>\n",
       "      <th>0</th>\n",
       "      <td>58</td>\n",
       "      <td>management</td>\n",
       "      <td>married</td>\n",
       "      <td>tertiary</td>\n",
       "      <td>no</td>\n",
       "      <td>2143</td>\n",
       "      <td>yes</td>\n",
       "      <td>no</td>\n",
       "      <td>unknown</td>\n",
       "      <td>5</td>\n",
       "      <td>may</td>\n",
       "      <td>261</td>\n",
       "      <td>1</td>\n",
       "      <td>-1</td>\n",
       "      <td>0</td>\n",
       "      <td>unknown</td>\n",
       "      <td>36.948276</td>\n",
       "      <td>8.210728</td>\n",
       "      <td>1758.416435</td>\n",
       "      <td>0</td>\n",
       "    </tr>\n",
       "    <tr>\n",
       "      <th>1</th>\n",
       "      <td>44</td>\n",
       "      <td>technician</td>\n",
       "      <td>single</td>\n",
       "      <td>secondary</td>\n",
       "      <td>no</td>\n",
       "      <td>29</td>\n",
       "      <td>yes</td>\n",
       "      <td>no</td>\n",
       "      <td>unknown</td>\n",
       "      <td>5</td>\n",
       "      <td>may</td>\n",
       "      <td>151</td>\n",
       "      <td>1</td>\n",
       "      <td>-1</td>\n",
       "      <td>0</td>\n",
       "      <td>unknown</td>\n",
       "      <td>0.659091</td>\n",
       "      <td>0.192053</td>\n",
       "      <td>1154.880786</td>\n",
       "      <td>0</td>\n",
       "    </tr>\n",
       "    <tr>\n",
       "      <th>2</th>\n",
       "      <td>33</td>\n",
       "      <td>entrepreneur</td>\n",
       "      <td>married</td>\n",
       "      <td>secondary</td>\n",
       "      <td>no</td>\n",
       "      <td>2</td>\n",
       "      <td>yes</td>\n",
       "      <td>yes</td>\n",
       "      <td>unknown</td>\n",
       "      <td>5</td>\n",
       "      <td>may</td>\n",
       "      <td>76</td>\n",
       "      <td>1</td>\n",
       "      <td>-1</td>\n",
       "      <td>0</td>\n",
       "      <td>unknown</td>\n",
       "      <td>0.060606</td>\n",
       "      <td>0.026316</td>\n",
       "      <td>1154.880786</td>\n",
       "      <td>0</td>\n",
       "    </tr>\n",
       "  </tbody>\n",
       "</table>\n",
       "</div>"
      ],
      "text/plain": [
       "   age           job  marital  education default  balance housing loan  \\\n",
       "0   58    management  married   tertiary      no     2143     yes   no   \n",
       "1   44    technician   single  secondary      no       29     yes   no   \n",
       "2   33  entrepreneur  married  secondary      no        2     yes  yes   \n",
       "\n",
       "   contact  day month  duration  campaign  pdays  previous poutcome  \\\n",
       "0  unknown    5   may       261         1     -1         0  unknown   \n",
       "1  unknown    5   may       151         1     -1         0  unknown   \n",
       "2  unknown    5   may        76         1     -1         0  unknown   \n",
       "\n",
       "   balance_to_age  balance_to_duration  mean_balance_at_education_level  y  \n",
       "0       36.948276             8.210728                      1758.416435  0  \n",
       "1        0.659091             0.192053                      1154.880786  0  \n",
       "2        0.060606             0.026316                      1154.880786  0  "
      ]
     },
     "execution_count": 9,
     "metadata": {},
     "output_type": "execute_result"
    }
   ],
   "source": [
    "data = data[[c for c in data if c not in ['y']] + ['y']]\n",
    "data.head(3)"
   ]
  },
  {
   "cell_type": "markdown",
   "id": "c79ac618",
   "metadata": {},
   "source": [
    "#### Train-test split"
   ]
  },
  {
   "cell_type": "code",
   "execution_count": 23,
   "id": "97dc84b9",
   "metadata": {},
   "outputs": [],
   "source": [
    "x_data = data.drop(columns=['y'])\n",
    "y_data = data['y'].astype(int)\n",
    "\n",
    "x_train, x_test, y_train, y_test = train_test_split(x_data, y_data, test_size=0.2, random_state=43)"
   ]
  },
  {
   "cell_type": "code",
   "execution_count": 24,
   "id": "34c7f300",
   "metadata": {},
   "outputs": [
    {
     "name": "stdout",
     "output_type": "stream",
     "text": [
      "<class 'pandas.core.frame.DataFrame'>\n",
      "Int64Index: 45211 entries, 0 to 45210\n",
      "Data columns (total 20 columns):\n",
      " #   Column                           Non-Null Count  Dtype  \n",
      "---  ------                           --------------  -----  \n",
      " 0   age                              45211 non-null  int64  \n",
      " 1   job                              45211 non-null  object \n",
      " 2   marital                          45211 non-null  object \n",
      " 3   education                        45211 non-null  object \n",
      " 4   default                          45211 non-null  object \n",
      " 5   balance                          45211 non-null  int64  \n",
      " 6   housing                          45211 non-null  object \n",
      " 7   loan                             45211 non-null  object \n",
      " 8   contact                          45211 non-null  object \n",
      " 9   day                              45211 non-null  int64  \n",
      " 10  month                            45211 non-null  object \n",
      " 11  duration                         45211 non-null  int64  \n",
      " 12  campaign                         45211 non-null  int64  \n",
      " 13  pdays                            45211 non-null  int64  \n",
      " 14  previous                         45211 non-null  int64  \n",
      " 15  poutcome                         45211 non-null  object \n",
      " 16  balance_to_age                   45211 non-null  float64\n",
      " 17  balance_to_duration              45211 non-null  float64\n",
      " 18  mean_balance_at_education_level  45211 non-null  float64\n",
      " 19  y                                45211 non-null  object \n",
      "dtypes: float64(3), int64(7), object(10)\n",
      "memory usage: 7.2+ MB\n"
     ]
    }
   ],
   "source": [
    "data.info()"
   ]
  },
  {
   "cell_type": "code",
   "execution_count": 25,
   "id": "716daba9",
   "metadata": {},
   "outputs": [],
   "source": [
    "categorical_columns = ['job', 'marital', 'education', 'default', 'housing', 'loan', 'contact', 'month', 'poutcome']"
   ]
  },
  {
   "cell_type": "code",
   "execution_count": 26,
   "id": "ff8874b2",
   "metadata": {},
   "outputs": [
    {
     "name": "stdout",
     "output_type": "stream",
     "text": [
      "Wall time: 1.21 s\n"
     ]
    }
   ],
   "source": [
    "%%time\n",
    "# Использую балансировку по весам классов - задаётся пропорционально 1 к 8\n",
    "model = catb.CatBoostClassifier(iterations=20, thread_count=2, silent=True, random_state=43)\n",
    "model.fit(x_train, y_train, categorical_columns)\n",
    "\n",
    "y_predict = model.predict(x_test)"
   ]
  },
  {
   "cell_type": "markdown",
   "id": "b3c5e654",
   "metadata": {},
   "source": [
    "##### Проверяем качество"
   ]
  },
  {
   "cell_type": "code",
   "execution_count": 27,
   "id": "43f44e58",
   "metadata": {},
   "outputs": [
    {
     "name": "stdout",
     "output_type": "stream",
     "text": [
      "Classification results:\n",
      "f1: 53.50%\n",
      "roc: 70.97%\n",
      "recall: 45.05%\n",
      "precision: 65.84%\n"
     ]
    }
   ],
   "source": [
    "def evaluate_results(y_test, y_predict, print_flag=True):\n",
    "    f1 = f1_score(y_test, y_predict)\n",
    "    roc = roc_auc_score(y_test, y_predict)\n",
    "    rec = recall_score(y_test, y_predict, average='binary')\n",
    "    prc = precision_score(y_test, y_predict, average='binary')\n",
    "    \n",
    "    if print_flag:\n",
    "        print('Classification results:')\n",
    "        print(\"f1: %.2f%%\" % (f1 * 100.0))\n",
    "        print(\"roc: %.2f%%\" % (roc * 100.0))\n",
    "        print(\"recall: %.2f%%\" % (rec * 100.0))\n",
    "        print(\"precision: %.2f%%\" % (prc * 100.0))\n",
    "    else:\n",
    "        return [f1, roc, rec, prc]\n",
    "    \n",
    "metrics = []\n",
    "evaluate_results(y_test, y_predict)\n",
    "metrics.append(evaluate_results(y_test, y_predict, print_flag=False))"
   ]
  },
  {
   "cell_type": "markdown",
   "id": "ce381734",
   "metadata": {},
   "source": [
    "#### PU learning (алгоритм - SPY)"
   ]
  },
  {
   "cell_type": "code",
   "execution_count": 144,
   "id": "9e6bd571",
   "metadata": {},
   "outputs": [
    {
     "name": "stdout",
     "output_type": "stream",
     "text": [
      "Using 1323/5289 as positives and unlabeling the rest\n"
     ]
    }
   ],
   "source": [
    "mod_data = data.copy()\n",
    "#get the indices of the positives samples\n",
    "pos_ind = np.where(mod_data.iloc[:,-1].values == 1)[0]\n",
    "#shuffle them\n",
    "np.random.shuffle(pos_ind)\n",
    "# leave just 25% of the positives marked\n",
    "pos_sample_len = int(np.ceil(0.25 * len(pos_ind)))\n",
    "print(f'Using {pos_sample_len}/{len(pos_ind)} as positives and unlabeling the rest')\n",
    "pos_sample = pos_ind[:pos_sample_len]"
   ]
  },
  {
   "cell_type": "markdown",
   "id": "fddcd9e0",
   "metadata": {},
   "source": [
    "##### Создаем столбец для новой целевой переменной, где у нас два класса - P (1) и U (-1)"
   ]
  },
  {
   "cell_type": "code",
   "execution_count": 145,
   "id": "f3358e40",
   "metadata": {},
   "outputs": [
    {
     "name": "stdout",
     "output_type": "stream",
     "text": [
      "target variable:\n",
      " -1    43888\n",
      " 1     1323\n",
      "Name: class_test, dtype: int64\n"
     ]
    }
   ],
   "source": [
    "mod_data['class_test'] = -1\n",
    "mod_data.loc[pos_sample,'class_test'] = 1\n",
    "print('target variable:\\n', mod_data.iloc[:,-1].value_counts())"
   ]
  },
  {
   "cell_type": "code",
   "execution_count": 146,
   "id": "e480bf20",
   "metadata": {},
   "outputs": [
    {
     "data": {
      "text/html": [
       "<div>\n",
       "<style scoped>\n",
       "    .dataframe tbody tr th:only-of-type {\n",
       "        vertical-align: middle;\n",
       "    }\n",
       "\n",
       "    .dataframe tbody tr th {\n",
       "        vertical-align: top;\n",
       "    }\n",
       "\n",
       "    .dataframe thead th {\n",
       "        text-align: right;\n",
       "    }\n",
       "</style>\n",
       "<table border=\"1\" class=\"dataframe\">\n",
       "  <thead>\n",
       "    <tr style=\"text-align: right;\">\n",
       "      <th></th>\n",
       "      <th>age</th>\n",
       "      <th>job</th>\n",
       "      <th>marital</th>\n",
       "      <th>education</th>\n",
       "      <th>default</th>\n",
       "      <th>balance</th>\n",
       "      <th>housing</th>\n",
       "      <th>loan</th>\n",
       "      <th>contact</th>\n",
       "      <th>day</th>\n",
       "      <th>...</th>\n",
       "      <th>duration</th>\n",
       "      <th>campaign</th>\n",
       "      <th>pdays</th>\n",
       "      <th>previous</th>\n",
       "      <th>poutcome</th>\n",
       "      <th>balance_to_age</th>\n",
       "      <th>balance_to_duration</th>\n",
       "      <th>mean_balance_at_education_level</th>\n",
       "      <th>y</th>\n",
       "      <th>class_test</th>\n",
       "    </tr>\n",
       "  </thead>\n",
       "  <tbody>\n",
       "    <tr>\n",
       "      <th>0</th>\n",
       "      <td>58</td>\n",
       "      <td>management</td>\n",
       "      <td>married</td>\n",
       "      <td>tertiary</td>\n",
       "      <td>no</td>\n",
       "      <td>2143</td>\n",
       "      <td>yes</td>\n",
       "      <td>no</td>\n",
       "      <td>unknown</td>\n",
       "      <td>5</td>\n",
       "      <td>...</td>\n",
       "      <td>261</td>\n",
       "      <td>1</td>\n",
       "      <td>-1</td>\n",
       "      <td>0</td>\n",
       "      <td>unknown</td>\n",
       "      <td>36.948276</td>\n",
       "      <td>8.210728</td>\n",
       "      <td>1758.416435</td>\n",
       "      <td>0</td>\n",
       "      <td>-1</td>\n",
       "    </tr>\n",
       "    <tr>\n",
       "      <th>1</th>\n",
       "      <td>44</td>\n",
       "      <td>technician</td>\n",
       "      <td>single</td>\n",
       "      <td>secondary</td>\n",
       "      <td>no</td>\n",
       "      <td>29</td>\n",
       "      <td>yes</td>\n",
       "      <td>no</td>\n",
       "      <td>unknown</td>\n",
       "      <td>5</td>\n",
       "      <td>...</td>\n",
       "      <td>151</td>\n",
       "      <td>1</td>\n",
       "      <td>-1</td>\n",
       "      <td>0</td>\n",
       "      <td>unknown</td>\n",
       "      <td>0.659091</td>\n",
       "      <td>0.192053</td>\n",
       "      <td>1154.880786</td>\n",
       "      <td>0</td>\n",
       "      <td>-1</td>\n",
       "    </tr>\n",
       "    <tr>\n",
       "      <th>2</th>\n",
       "      <td>33</td>\n",
       "      <td>entrepreneur</td>\n",
       "      <td>married</td>\n",
       "      <td>secondary</td>\n",
       "      <td>no</td>\n",
       "      <td>2</td>\n",
       "      <td>yes</td>\n",
       "      <td>yes</td>\n",
       "      <td>unknown</td>\n",
       "      <td>5</td>\n",
       "      <td>...</td>\n",
       "      <td>76</td>\n",
       "      <td>1</td>\n",
       "      <td>-1</td>\n",
       "      <td>0</td>\n",
       "      <td>unknown</td>\n",
       "      <td>0.060606</td>\n",
       "      <td>0.026316</td>\n",
       "      <td>1154.880786</td>\n",
       "      <td>0</td>\n",
       "      <td>-1</td>\n",
       "    </tr>\n",
       "    <tr>\n",
       "      <th>3</th>\n",
       "      <td>47</td>\n",
       "      <td>blue-collar</td>\n",
       "      <td>married</td>\n",
       "      <td>unknown</td>\n",
       "      <td>no</td>\n",
       "      <td>1506</td>\n",
       "      <td>yes</td>\n",
       "      <td>no</td>\n",
       "      <td>unknown</td>\n",
       "      <td>5</td>\n",
       "      <td>...</td>\n",
       "      <td>92</td>\n",
       "      <td>1</td>\n",
       "      <td>-1</td>\n",
       "      <td>0</td>\n",
       "      <td>unknown</td>\n",
       "      <td>32.042553</td>\n",
       "      <td>16.369565</td>\n",
       "      <td>1526.754443</td>\n",
       "      <td>0</td>\n",
       "      <td>-1</td>\n",
       "    </tr>\n",
       "    <tr>\n",
       "      <th>4</th>\n",
       "      <td>33</td>\n",
       "      <td>unknown</td>\n",
       "      <td>single</td>\n",
       "      <td>unknown</td>\n",
       "      <td>no</td>\n",
       "      <td>1</td>\n",
       "      <td>no</td>\n",
       "      <td>no</td>\n",
       "      <td>unknown</td>\n",
       "      <td>5</td>\n",
       "      <td>...</td>\n",
       "      <td>198</td>\n",
       "      <td>1</td>\n",
       "      <td>-1</td>\n",
       "      <td>0</td>\n",
       "      <td>unknown</td>\n",
       "      <td>0.030303</td>\n",
       "      <td>0.005051</td>\n",
       "      <td>1526.754443</td>\n",
       "      <td>0</td>\n",
       "      <td>-1</td>\n",
       "    </tr>\n",
       "  </tbody>\n",
       "</table>\n",
       "<p>5 rows × 21 columns</p>\n",
       "</div>"
      ],
      "text/plain": [
       "   age           job  marital  education default  balance housing loan  \\\n",
       "0   58    management  married   tertiary      no     2143     yes   no   \n",
       "1   44    technician   single  secondary      no       29     yes   no   \n",
       "2   33  entrepreneur  married  secondary      no        2     yes  yes   \n",
       "3   47   blue-collar  married    unknown      no     1506     yes   no   \n",
       "4   33       unknown   single    unknown      no        1      no   no   \n",
       "\n",
       "   contact  day  ... duration  campaign  pdays  previous  poutcome  \\\n",
       "0  unknown    5  ...      261         1     -1         0   unknown   \n",
       "1  unknown    5  ...      151         1     -1         0   unknown   \n",
       "2  unknown    5  ...       76         1     -1         0   unknown   \n",
       "3  unknown    5  ...       92         1     -1         0   unknown   \n",
       "4  unknown    5  ...      198         1     -1         0   unknown   \n",
       "\n",
       "  balance_to_age  balance_to_duration  mean_balance_at_education_level  y  \\\n",
       "0      36.948276             8.210728                      1758.416435  0   \n",
       "1       0.659091             0.192053                      1154.880786  0   \n",
       "2       0.060606             0.026316                      1154.880786  0   \n",
       "3      32.042553            16.369565                      1526.754443  0   \n",
       "4       0.030303             0.005051                      1526.754443  0   \n",
       "\n",
       "  class_test  \n",
       "0         -1  \n",
       "1         -1  \n",
       "2         -1  \n",
       "3         -1  \n",
       "4         -1  \n",
       "\n",
       "[5 rows x 21 columns]"
      ]
     },
     "execution_count": 146,
     "metadata": {},
     "output_type": "execute_result"
    }
   ],
   "source": [
    "mod_data.head()"
   ]
  },
  {
   "cell_type": "code",
   "execution_count": 147,
   "id": "8a102563",
   "metadata": {},
   "outputs": [
    {
     "name": "stdout",
     "output_type": "stream",
     "text": [
      "<class 'pandas.core.frame.DataFrame'>\n",
      "Int64Index: 45211 entries, 0 to 45210\n",
      "Data columns (total 21 columns):\n",
      " #   Column                           Non-Null Count  Dtype  \n",
      "---  ------                           --------------  -----  \n",
      " 0   age                              45211 non-null  int64  \n",
      " 1   job                              45211 non-null  object \n",
      " 2   marital                          45211 non-null  object \n",
      " 3   education                        45211 non-null  object \n",
      " 4   default                          45211 non-null  object \n",
      " 5   balance                          45211 non-null  int64  \n",
      " 6   housing                          45211 non-null  object \n",
      " 7   loan                             45211 non-null  object \n",
      " 8   contact                          45211 non-null  object \n",
      " 9   day                              45211 non-null  int64  \n",
      " 10  month                            45211 non-null  object \n",
      " 11  duration                         45211 non-null  int64  \n",
      " 12  campaign                         45211 non-null  int64  \n",
      " 13  pdays                            45211 non-null  int64  \n",
      " 14  previous                         45211 non-null  int64  \n",
      " 15  poutcome                         45211 non-null  object \n",
      " 16  balance_to_age                   45211 non-null  float64\n",
      " 17  balance_to_duration              45211 non-null  float64\n",
      " 18  mean_balance_at_education_level  45211 non-null  float64\n",
      " 19  y                                45211 non-null  object \n",
      " 20  class_test                       45211 non-null  int64  \n",
      "dtypes: float64(3), int64(8), object(10)\n",
      "memory usage: 8.6+ MB\n"
     ]
    }
   ],
   "source": [
    "mod_data.info()"
   ]
  },
  {
   "cell_type": "code",
   "execution_count": 175,
   "id": "68f55253",
   "metadata": {},
   "outputs": [],
   "source": [
    "def downcast_dtypes(df):\n",
    "    '''\n",
    "          Changes column types in the dataframe: \n",
    "            `float64` type to `float32`\n",
    "            `int64`   type to `int32`\n",
    "      '''\n",
    "\n",
    "    # Select columns to downcast\n",
    "    float_cols = [c for c in df if df[c].dtype == \"float64\"]\n",
    "    int_cols =   [c for c in df if df[c].dtype == \"int64\"]\n",
    "\n",
    "          # Downcast\n",
    "    df[float_cols] = df[float_cols].astype(np.float32)\n",
    "    df[int_cols]   = df[int_cols].astype(np.int32)\n",
    "    df['y'] = df['y'].astype(int)\n",
    "\n",
    "    return df"
   ]
  },
  {
   "cell_type": "code",
   "execution_count": 176,
   "id": "a760556a",
   "metadata": {},
   "outputs": [],
   "source": [
    "mod_data =  downcast_dtypes(mod_data)"
   ]
  },
  {
   "cell_type": "code",
   "execution_count": 177,
   "id": "6352e66c",
   "metadata": {},
   "outputs": [
    {
     "name": "stdout",
     "output_type": "stream",
     "text": [
      "<class 'pandas.core.frame.DataFrame'>\n",
      "Int64Index: 45211 entries, 25652 to 25365\n",
      "Data columns (total 21 columns):\n",
      " #   Column                           Non-Null Count  Dtype  \n",
      "---  ------                           --------------  -----  \n",
      " 0   age                              45211 non-null  int16  \n",
      " 1   job                              45211 non-null  object \n",
      " 2   marital                          45211 non-null  object \n",
      " 3   education                        45211 non-null  object \n",
      " 4   default                          45211 non-null  object \n",
      " 5   balance                          45211 non-null  int16  \n",
      " 6   housing                          45211 non-null  object \n",
      " 7   loan                             45211 non-null  object \n",
      " 8   contact                          45211 non-null  object \n",
      " 9   day                              45211 non-null  int16  \n",
      " 10  month                            45211 non-null  object \n",
      " 11  duration                         45211 non-null  int16  \n",
      " 12  campaign                         45211 non-null  int16  \n",
      " 13  pdays                            45211 non-null  int16  \n",
      " 14  previous                         45211 non-null  int16  \n",
      " 15  poutcome                         45211 non-null  object \n",
      " 16  balance_to_age                   45211 non-null  float16\n",
      " 17  balance_to_duration              45211 non-null  float16\n",
      " 18  mean_balance_at_education_level  45211 non-null  float16\n",
      " 19  y                                45211 non-null  int32  \n",
      " 20  class_test                       45211 non-null  int16  \n",
      "dtypes: float16(3), int16(8), int32(1), object(9)\n",
      "memory usage: 4.6+ MB\n"
     ]
    }
   ],
   "source": [
    "mod_data.info()"
   ]
  },
  {
   "cell_type": "code",
   "execution_count": 178,
   "id": "8462d7aa",
   "metadata": {},
   "outputs": [],
   "source": [
    "x_data = mod_data.iloc[:,:-2].values # just the X \n",
    "y_labeled = mod_data.iloc[:,-1].values # new class (just the P & U)\n",
    "y_positive = mod_data.iloc[:,-2].values # original class"
   ]
  },
  {
   "cell_type": "markdown",
   "id": "79b698a5",
   "metadata": {},
   "source": [
    "####  Random negative sampling"
   ]
  },
  {
   "cell_type": "code",
   "execution_count": 179,
   "id": "fef1716b",
   "metadata": {},
   "outputs": [
    {
     "name": "stdout",
     "output_type": "stream",
     "text": [
      "(1323, 21) (1323, 21)\n"
     ]
    }
   ],
   "source": [
    "mod_data = mod_data.sample(frac=1)  # Случайно перемешивает всю выборку\n",
    "# В neg_sample оставляем случайную выборку длиной как pos_sample\n",
    "neg_sample = mod_data[mod_data['class_test']==-1][:len(mod_data[mod_data['class_test']==1])]\n",
    "sample_test = mod_data[mod_data['class_test']==-1][len(mod_data[mod_data['class_test']==1]):]  # Оставшиеся U\n",
    "pos_sample = mod_data[mod_data['class_test']==1]\n",
    "print(neg_sample.shape, pos_sample.shape)  # Одинаковые по размеру выборки\n",
    "sample_train = pd.concat([neg_sample, pos_sample]).sample(frac=1)"
   ]
  },
  {
   "cell_type": "code",
   "execution_count": 180,
   "id": "5db8a3f5",
   "metadata": {},
   "outputs": [
    {
     "name": "stdout",
     "output_type": "stream",
     "text": [
      "Classification results:\n",
      "f1: 46.50%\n",
      "roc: 84.88%\n",
      "recall: 88.96%\n",
      "precision: 31.48%\n",
      "Wall time: 951 ms\n"
     ]
    }
   ],
   "source": [
    "%%time\n",
    "model = catb.CatBoostClassifier(iterations=20, thread_count=2, silent=True, random_state=21)\n",
    "model.fit(sample_train.iloc[:,:-2], sample_train.iloc[:,-2], categorical_columns)\n",
    "\n",
    "y_predict = model.predict(sample_test.iloc[:,:-2])\n",
    "evaluate_results(sample_test.iloc[:,-2], y_predict)\n",
    "metrics.append(evaluate_results(sample_test.iloc[:,-2], y_predict, print_flag=False))"
   ]
  },
  {
   "cell_type": "code",
   "execution_count": 181,
   "id": "18f7941e",
   "metadata": {},
   "outputs": [
    {
     "data": {
      "text/html": [
       "<div>\n",
       "<style scoped>\n",
       "    .dataframe tbody tr th:only-of-type {\n",
       "        vertical-align: middle;\n",
       "    }\n",
       "\n",
       "    .dataframe tbody tr th {\n",
       "        vertical-align: top;\n",
       "    }\n",
       "\n",
       "    .dataframe thead th {\n",
       "        text-align: right;\n",
       "    }\n",
       "</style>\n",
       "<table border=\"1\" class=\"dataframe\">\n",
       "  <thead>\n",
       "    <tr style=\"text-align: right;\">\n",
       "      <th></th>\n",
       "      <th>fscore</th>\n",
       "      <th>roc_auc</th>\n",
       "      <th>recall</th>\n",
       "      <th>precision</th>\n",
       "    </tr>\n",
       "  </thead>\n",
       "  <tbody>\n",
       "    <tr>\n",
       "      <th>CatBoostClassifier</th>\n",
       "      <td>0.534975</td>\n",
       "      <td>0.709724</td>\n",
       "      <td>0.450518</td>\n",
       "      <td>0.658402</td>\n",
       "    </tr>\n",
       "    <tr>\n",
       "      <th>CatBoostClassifier + random negative sampling</th>\n",
       "      <td>0.465037</td>\n",
       "      <td>0.848808</td>\n",
       "      <td>0.889555</td>\n",
       "      <td>0.314805</td>\n",
       "    </tr>\n",
       "  </tbody>\n",
       "</table>\n",
       "</div>"
      ],
      "text/plain": [
       "                                                 fscore   roc_auc    recall  \\\n",
       "CatBoostClassifier                             0.534975  0.709724  0.450518   \n",
       "CatBoostClassifier + random negative sampling  0.465037  0.848808  0.889555   \n",
       "\n",
       "                                               precision  \n",
       "CatBoostClassifier                              0.658402  \n",
       "CatBoostClassifier + random negative sampling   0.314805  "
      ]
     },
     "execution_count": 181,
     "metadata": {},
     "output_type": "execute_result"
    }
   ],
   "source": [
    "metrics_comparison_df = pd.DataFrame(np.array(metrics),\n",
    "                   columns=['fscore', 'roc_auc', 'recall', 'precision'],\n",
    "                   index=['CatBoostClassifier', 'CatBoostClassifier + random negative sampling'])\n",
    "metrics_comparison_df"
   ]
  },
  {
   "cell_type": "markdown",
   "id": "01c215fe",
   "metadata": {},
   "source": [
    "Оценка модели выросла по roc_auc. При этом random negative sampling сильно улучшил Recall за счет снижения Precision. Мы можем эти параметры отрегулировать с помощью подбора порога. Но для нашей задачи высокий Recall это как раз то, что нам и нужно. Значит модель хорошо определяет класс 1 или \"похожих\" на него. С другой стороны упавший Precision говорит о том, что в замен стало больше FP. И вот учитывая, что мы решаем задачу PU и в данных присутствует не размеченный класс 1, то может быть это и есть искомые \"look-alike\" под видом FP."
   ]
  },
  {
   "cell_type": "code",
   "execution_count": null,
   "id": "3ddd1e35",
   "metadata": {},
   "outputs": [],
   "source": []
  }
 ],
 "metadata": {
  "kernelspec": {
   "display_name": "Python 3",
   "language": "python",
   "name": "python3"
  },
  "language_info": {
   "codemirror_mode": {
    "name": "ipython",
    "version": 3
   },
   "file_extension": ".py",
   "mimetype": "text/x-python",
   "name": "python",
   "nbconvert_exporter": "python",
   "pygments_lexer": "ipython3",
   "version": "3.8.8"
  }
 },
 "nbformat": 4,
 "nbformat_minor": 5
}
